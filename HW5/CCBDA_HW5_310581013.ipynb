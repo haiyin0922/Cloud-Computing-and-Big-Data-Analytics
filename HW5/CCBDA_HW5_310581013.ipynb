{
  "cells": [
    {
      "cell_type": "markdown",
      "metadata": {
        "id": "64KICbFmdkM7"
      },
      "source": [
        "# Dataset Overview"
      ]
    },
    {
      "cell_type": "code",
      "execution_count": 1,
      "metadata": {
        "scrolled": true,
        "id": "_nei8e9adkM8",
        "outputId": "3fdcb1b7-ae34-4424-decb-853e30b468af",
        "colab": {
          "base_uri": "https://localhost:8080/",
          "height": 424
        }
      },
      "outputs": [
        {
          "output_type": "execute_result",
          "data": {
            "text/plain": [
              "      CustomerId   Surname  CreditScore Geography  Gender  Age  Tenure  \\\n",
              "0       15565701     Ferri          698     Spain  Female   39       9   \n",
              "1       15565706  Akobundu          612     Spain    Male   35       1   \n",
              "2       15565796  Docherty          745   Germany    Male   48      10   \n",
              "3       15565806    Toosey          532    France    Male   38       9   \n",
              "4       15565878     Bates          631     Spain    Male   29       3   \n",
              "...          ...       ...          ...       ...     ...  ...     ...   \n",
              "7995    15815628    Moysey          711    France  Female   37       8   \n",
              "7996    15815645    Akhtar          481    France    Male   37       8   \n",
              "7997    15815656   Hopkins          541   Germany  Female   39       9   \n",
              "7998    15815660     Mazzi          758    France  Female   34       1   \n",
              "7999    15815690  Akabueze          614     Spain  Female   40       3   \n",
              "\n",
              "        Balance  NumOfProducts  HasCrCard  IsActiveMember  EstimatedSalary  \\\n",
              "0     161993.89              1          0               0         90212.38   \n",
              "1          0.00              1          1               1         83256.26   \n",
              "2      96048.55              1          1               0         74510.65   \n",
              "3          0.00              2          0               0         30583.95   \n",
              "4          0.00              2          1               1        197963.46   \n",
              "...         ...            ...        ...             ...              ...   \n",
              "7995  113899.92              1          0               0         80215.20   \n",
              "7996  152303.66              2          1               1        175082.20   \n",
              "7997  100116.67              1          1               1        199808.10   \n",
              "7998  154139.45              1          1               1         60728.89   \n",
              "7999  113348.50              1          1               1         77789.01   \n",
              "\n",
              "      Exited  \n",
              "0          0  \n",
              "1          1  \n",
              "2          0  \n",
              "3          0  \n",
              "4          0  \n",
              "...      ...  \n",
              "7995       0  \n",
              "7996       0  \n",
              "7997       1  \n",
              "7998       0  \n",
              "7999       0  \n",
              "\n",
              "[8000 rows x 13 columns]"
            ],
            "text/html": [
              "\n",
              "  <div id=\"df-1fc964cd-03b2-47ac-89c6-f8518b9304a5\">\n",
              "    <div class=\"colab-df-container\">\n",
              "      <div>\n",
              "<style scoped>\n",
              "    .dataframe tbody tr th:only-of-type {\n",
              "        vertical-align: middle;\n",
              "    }\n",
              "\n",
              "    .dataframe tbody tr th {\n",
              "        vertical-align: top;\n",
              "    }\n",
              "\n",
              "    .dataframe thead th {\n",
              "        text-align: right;\n",
              "    }\n",
              "</style>\n",
              "<table border=\"1\" class=\"dataframe\">\n",
              "  <thead>\n",
              "    <tr style=\"text-align: right;\">\n",
              "      <th></th>\n",
              "      <th>CustomerId</th>\n",
              "      <th>Surname</th>\n",
              "      <th>CreditScore</th>\n",
              "      <th>Geography</th>\n",
              "      <th>Gender</th>\n",
              "      <th>Age</th>\n",
              "      <th>Tenure</th>\n",
              "      <th>Balance</th>\n",
              "      <th>NumOfProducts</th>\n",
              "      <th>HasCrCard</th>\n",
              "      <th>IsActiveMember</th>\n",
              "      <th>EstimatedSalary</th>\n",
              "      <th>Exited</th>\n",
              "    </tr>\n",
              "  </thead>\n",
              "  <tbody>\n",
              "    <tr>\n",
              "      <th>0</th>\n",
              "      <td>15565701</td>\n",
              "      <td>Ferri</td>\n",
              "      <td>698</td>\n",
              "      <td>Spain</td>\n",
              "      <td>Female</td>\n",
              "      <td>39</td>\n",
              "      <td>9</td>\n",
              "      <td>161993.89</td>\n",
              "      <td>1</td>\n",
              "      <td>0</td>\n",
              "      <td>0</td>\n",
              "      <td>90212.38</td>\n",
              "      <td>0</td>\n",
              "    </tr>\n",
              "    <tr>\n",
              "      <th>1</th>\n",
              "      <td>15565706</td>\n",
              "      <td>Akobundu</td>\n",
              "      <td>612</td>\n",
              "      <td>Spain</td>\n",
              "      <td>Male</td>\n",
              "      <td>35</td>\n",
              "      <td>1</td>\n",
              "      <td>0.00</td>\n",
              "      <td>1</td>\n",
              "      <td>1</td>\n",
              "      <td>1</td>\n",
              "      <td>83256.26</td>\n",
              "      <td>1</td>\n",
              "    </tr>\n",
              "    <tr>\n",
              "      <th>2</th>\n",
              "      <td>15565796</td>\n",
              "      <td>Docherty</td>\n",
              "      <td>745</td>\n",
              "      <td>Germany</td>\n",
              "      <td>Male</td>\n",
              "      <td>48</td>\n",
              "      <td>10</td>\n",
              "      <td>96048.55</td>\n",
              "      <td>1</td>\n",
              "      <td>1</td>\n",
              "      <td>0</td>\n",
              "      <td>74510.65</td>\n",
              "      <td>0</td>\n",
              "    </tr>\n",
              "    <tr>\n",
              "      <th>3</th>\n",
              "      <td>15565806</td>\n",
              "      <td>Toosey</td>\n",
              "      <td>532</td>\n",
              "      <td>France</td>\n",
              "      <td>Male</td>\n",
              "      <td>38</td>\n",
              "      <td>9</td>\n",
              "      <td>0.00</td>\n",
              "      <td>2</td>\n",
              "      <td>0</td>\n",
              "      <td>0</td>\n",
              "      <td>30583.95</td>\n",
              "      <td>0</td>\n",
              "    </tr>\n",
              "    <tr>\n",
              "      <th>4</th>\n",
              "      <td>15565878</td>\n",
              "      <td>Bates</td>\n",
              "      <td>631</td>\n",
              "      <td>Spain</td>\n",
              "      <td>Male</td>\n",
              "      <td>29</td>\n",
              "      <td>3</td>\n",
              "      <td>0.00</td>\n",
              "      <td>2</td>\n",
              "      <td>1</td>\n",
              "      <td>1</td>\n",
              "      <td>197963.46</td>\n",
              "      <td>0</td>\n",
              "    </tr>\n",
              "    <tr>\n",
              "      <th>...</th>\n",
              "      <td>...</td>\n",
              "      <td>...</td>\n",
              "      <td>...</td>\n",
              "      <td>...</td>\n",
              "      <td>...</td>\n",
              "      <td>...</td>\n",
              "      <td>...</td>\n",
              "      <td>...</td>\n",
              "      <td>...</td>\n",
              "      <td>...</td>\n",
              "      <td>...</td>\n",
              "      <td>...</td>\n",
              "      <td>...</td>\n",
              "    </tr>\n",
              "    <tr>\n",
              "      <th>7995</th>\n",
              "      <td>15815628</td>\n",
              "      <td>Moysey</td>\n",
              "      <td>711</td>\n",
              "      <td>France</td>\n",
              "      <td>Female</td>\n",
              "      <td>37</td>\n",
              "      <td>8</td>\n",
              "      <td>113899.92</td>\n",
              "      <td>1</td>\n",
              "      <td>0</td>\n",
              "      <td>0</td>\n",
              "      <td>80215.20</td>\n",
              "      <td>0</td>\n",
              "    </tr>\n",
              "    <tr>\n",
              "      <th>7996</th>\n",
              "      <td>15815645</td>\n",
              "      <td>Akhtar</td>\n",
              "      <td>481</td>\n",
              "      <td>France</td>\n",
              "      <td>Male</td>\n",
              "      <td>37</td>\n",
              "      <td>8</td>\n",
              "      <td>152303.66</td>\n",
              "      <td>2</td>\n",
              "      <td>1</td>\n",
              "      <td>1</td>\n",
              "      <td>175082.20</td>\n",
              "      <td>0</td>\n",
              "    </tr>\n",
              "    <tr>\n",
              "      <th>7997</th>\n",
              "      <td>15815656</td>\n",
              "      <td>Hopkins</td>\n",
              "      <td>541</td>\n",
              "      <td>Germany</td>\n",
              "      <td>Female</td>\n",
              "      <td>39</td>\n",
              "      <td>9</td>\n",
              "      <td>100116.67</td>\n",
              "      <td>1</td>\n",
              "      <td>1</td>\n",
              "      <td>1</td>\n",
              "      <td>199808.10</td>\n",
              "      <td>1</td>\n",
              "    </tr>\n",
              "    <tr>\n",
              "      <th>7998</th>\n",
              "      <td>15815660</td>\n",
              "      <td>Mazzi</td>\n",
              "      <td>758</td>\n",
              "      <td>France</td>\n",
              "      <td>Female</td>\n",
              "      <td>34</td>\n",
              "      <td>1</td>\n",
              "      <td>154139.45</td>\n",
              "      <td>1</td>\n",
              "      <td>1</td>\n",
              "      <td>1</td>\n",
              "      <td>60728.89</td>\n",
              "      <td>0</td>\n",
              "    </tr>\n",
              "    <tr>\n",
              "      <th>7999</th>\n",
              "      <td>15815690</td>\n",
              "      <td>Akabueze</td>\n",
              "      <td>614</td>\n",
              "      <td>Spain</td>\n",
              "      <td>Female</td>\n",
              "      <td>40</td>\n",
              "      <td>3</td>\n",
              "      <td>113348.50</td>\n",
              "      <td>1</td>\n",
              "      <td>1</td>\n",
              "      <td>1</td>\n",
              "      <td>77789.01</td>\n",
              "      <td>0</td>\n",
              "    </tr>\n",
              "  </tbody>\n",
              "</table>\n",
              "<p>8000 rows × 13 columns</p>\n",
              "</div>\n",
              "      <button class=\"colab-df-convert\" onclick=\"convertToInteractive('df-1fc964cd-03b2-47ac-89c6-f8518b9304a5')\"\n",
              "              title=\"Convert this dataframe to an interactive table.\"\n",
              "              style=\"display:none;\">\n",
              "        \n",
              "  <svg xmlns=\"http://www.w3.org/2000/svg\" height=\"24px\"viewBox=\"0 0 24 24\"\n",
              "       width=\"24px\">\n",
              "    <path d=\"M0 0h24v24H0V0z\" fill=\"none\"/>\n",
              "    <path d=\"M18.56 5.44l.94 2.06.94-2.06 2.06-.94-2.06-.94-.94-2.06-.94 2.06-2.06.94zm-11 1L8.5 8.5l.94-2.06 2.06-.94-2.06-.94L8.5 2.5l-.94 2.06-2.06.94zm10 10l.94 2.06.94-2.06 2.06-.94-2.06-.94-.94-2.06-.94 2.06-2.06.94z\"/><path d=\"M17.41 7.96l-1.37-1.37c-.4-.4-.92-.59-1.43-.59-.52 0-1.04.2-1.43.59L10.3 9.45l-7.72 7.72c-.78.78-.78 2.05 0 2.83L4 21.41c.39.39.9.59 1.41.59.51 0 1.02-.2 1.41-.59l7.78-7.78 2.81-2.81c.8-.78.8-2.07 0-2.86zM5.41 20L4 18.59l7.72-7.72 1.47 1.35L5.41 20z\"/>\n",
              "  </svg>\n",
              "      </button>\n",
              "      \n",
              "  <style>\n",
              "    .colab-df-container {\n",
              "      display:flex;\n",
              "      flex-wrap:wrap;\n",
              "      gap: 12px;\n",
              "    }\n",
              "\n",
              "    .colab-df-convert {\n",
              "      background-color: #E8F0FE;\n",
              "      border: none;\n",
              "      border-radius: 50%;\n",
              "      cursor: pointer;\n",
              "      display: none;\n",
              "      fill: #1967D2;\n",
              "      height: 32px;\n",
              "      padding: 0 0 0 0;\n",
              "      width: 32px;\n",
              "    }\n",
              "\n",
              "    .colab-df-convert:hover {\n",
              "      background-color: #E2EBFA;\n",
              "      box-shadow: 0px 1px 2px rgba(60, 64, 67, 0.3), 0px 1px 3px 1px rgba(60, 64, 67, 0.15);\n",
              "      fill: #174EA6;\n",
              "    }\n",
              "\n",
              "    [theme=dark] .colab-df-convert {\n",
              "      background-color: #3B4455;\n",
              "      fill: #D2E3FC;\n",
              "    }\n",
              "\n",
              "    [theme=dark] .colab-df-convert:hover {\n",
              "      background-color: #434B5C;\n",
              "      box-shadow: 0px 1px 3px 1px rgba(0, 0, 0, 0.15);\n",
              "      filter: drop-shadow(0px 1px 2px rgba(0, 0, 0, 0.3));\n",
              "      fill: #FFFFFF;\n",
              "    }\n",
              "  </style>\n",
              "\n",
              "      <script>\n",
              "        const buttonEl =\n",
              "          document.querySelector('#df-1fc964cd-03b2-47ac-89c6-f8518b9304a5 button.colab-df-convert');\n",
              "        buttonEl.style.display =\n",
              "          google.colab.kernel.accessAllowed ? 'block' : 'none';\n",
              "\n",
              "        async function convertToInteractive(key) {\n",
              "          const element = document.querySelector('#df-1fc964cd-03b2-47ac-89c6-f8518b9304a5');\n",
              "          const dataTable =\n",
              "            await google.colab.kernel.invokeFunction('convertToInteractive',\n",
              "                                                     [key], {});\n",
              "          if (!dataTable) return;\n",
              "\n",
              "          const docLinkHtml = 'Like what you see? Visit the ' +\n",
              "            '<a target=\"_blank\" href=https://colab.research.google.com/notebooks/data_table.ipynb>data table notebook</a>'\n",
              "            + ' to learn more about interactive tables.';\n",
              "          element.innerHTML = '';\n",
              "          dataTable['output_type'] = 'display_data';\n",
              "          await google.colab.output.renderOutput(dataTable, element);\n",
              "          const docLink = document.createElement('div');\n",
              "          docLink.innerHTML = docLinkHtml;\n",
              "          element.appendChild(docLink);\n",
              "        }\n",
              "      </script>\n",
              "    </div>\n",
              "  </div>\n",
              "  "
            ]
          },
          "metadata": {},
          "execution_count": 1
        }
      ],
      "source": [
        "import pandas as pd\n",
        "df = pd.read_csv('public.csv')\n",
        "df"
      ]
    },
    {
      "cell_type": "markdown",
      "metadata": {
        "id": "dS8Hm53ddkM9"
      },
      "source": [
        "# Use Pyspark to view dataset "
      ]
    },
    {
      "cell_type": "code",
      "source": [
        "!pip install findspark\n",
        "!pip install pyspark"
      ],
      "metadata": {
        "colab": {
          "base_uri": "https://localhost:8080/"
        },
        "id": "OVRKJUVm3YqQ",
        "outputId": "6f323e0b-ed45-422a-8ead-b3212ace3ba4"
      },
      "execution_count": 2,
      "outputs": [
        {
          "output_type": "stream",
          "name": "stdout",
          "text": [
            "Looking in indexes: https://pypi.org/simple, https://us-python.pkg.dev/colab-wheels/public/simple/\n",
            "Requirement already satisfied: findspark in /usr/local/lib/python3.7/dist-packages (2.0.1)\n",
            "Looking in indexes: https://pypi.org/simple, https://us-python.pkg.dev/colab-wheels/public/simple/\n",
            "Requirement already satisfied: pyspark in /usr/local/lib/python3.7/dist-packages (3.2.1)\n",
            "Requirement already satisfied: py4j==0.10.9.3 in /usr/local/lib/python3.7/dist-packages (from pyspark) (0.10.9.3)\n"
          ]
        }
      ]
    },
    {
      "cell_type": "code",
      "execution_count": 3,
      "metadata": {
        "id": "yk7aq7CVdkM-",
        "outputId": "d3eb48a0-ea3d-4546-d6ea-83b7b9659bb6",
        "colab": {
          "base_uri": "https://localhost:8080/"
        }
      },
      "outputs": [
        {
          "output_type": "stream",
          "name": "stdout",
          "text": [
            "root\n",
            " |-- CustomerId: integer (nullable = true)\n",
            " |-- Surname: string (nullable = true)\n",
            " |-- CreditScore: integer (nullable = true)\n",
            " |-- Geography: string (nullable = true)\n",
            " |-- Gender: string (nullable = true)\n",
            " |-- Age: integer (nullable = true)\n",
            " |-- Tenure: integer (nullable = true)\n",
            " |-- Balance: double (nullable = true)\n",
            " |-- NumOfProducts: integer (nullable = true)\n",
            " |-- HasCrCard: integer (nullable = true)\n",
            " |-- IsActiveMember: integer (nullable = true)\n",
            " |-- EstimatedSalary: double (nullable = true)\n",
            " |-- Exited: integer (nullable = true)\n",
            "\n"
          ]
        }
      ],
      "source": [
        "# These part is  for windows version, if you use ubuntu, remember to edit import pyspark part\n",
        "# ----\n",
        "import findspark\n",
        "findspark.init()\n",
        "findspark.find()\n",
        "import pyspark\n",
        "findspark.find()\n",
        "# ----\n",
        "from pyspark.sql import SparkSession\n",
        "spark = SparkSession.builder.appName(\"Churn_Modelling\").getOrCreate()\n",
        "df = spark.read.csv('public.csv',header=True,inferSchema=True)\n",
        "df.printSchema()"
      ]
    },
    {
      "cell_type": "markdown",
      "metadata": {
        "id": "w53urmdddkM-"
      },
      "source": [
        "# Do your work here"
      ]
    },
    {
      "cell_type": "code",
      "execution_count": 4,
      "metadata": {
        "id": "0t-rNruTdkM-"
      },
      "outputs": [],
      "source": [
        "import matplotlib.pyplot as plt\n",
        "from datetime import datetime\n",
        "from dateutil import parser\n",
        "from pyspark.sql.functions import unix_timestamp, date_format, col, when\n",
        "from pyspark.ml import Pipeline\n",
        "from pyspark.ml import PipelineModel\n",
        "from pyspark.ml.feature import RFormula\n",
        "from pyspark.ml.feature import OneHotEncoder, StringIndexer, VectorIndexer\n",
        "from pyspark.ml.classification import LogisticRegression\n",
        "from pyspark.mllib.evaluation import BinaryClassificationMetrics\n",
        "from pyspark.ml.evaluation import BinaryClassificationEvaluator"
      ]
    },
    {
      "cell_type": "code",
      "source": [
        "cust_df = df.select('CreditScore', 'Geography', 'Gender', 'Age', 'Tenure', 'Balance', 'NumOfProducts', 'HasCrCard', 'IsActiveMember', 'EstimatedSalary', 'Exited')#.filter((df.Age > 40) & (df.Age < 70))"
      ],
      "metadata": {
        "id": "t9Kb8kC3duVZ"
      },
      "execution_count": 5,
      "outputs": []
    },
    {
      "cell_type": "code",
      "source": [
        "# Because the sample uses an algorithm that works only with numeric features, convert them so they can be consumed\n",
        "sI1 = StringIndexer(inputCol=\"Geography\", outputCol=\"GeographyIndex\")\n",
        "en1 = OneHotEncoder(dropLast=False, inputCol=\"GeographyIndex\", outputCol=\"GeographyVec\")\n",
        "sI2 = StringIndexer(inputCol=\"Gender\", outputCol=\"GenderIndex\")\n",
        "en2 = OneHotEncoder(dropLast=False, inputCol=\"GenderIndex\", outputCol=\"GenderVec\")\n",
        "\n",
        "# Create a new DataFrame that has had the encodings applied\n",
        "encoded_final_df = Pipeline(stages=[sI1, en1, sI2, en2]).fit(cust_df).transform(cust_df)"
      ],
      "metadata": {
        "id": "YOuOEi0LL4il"
      },
      "execution_count": 6,
      "outputs": []
    },
    {
      "cell_type": "code",
      "source": [
        "from pyspark.ml import Pipeline\n",
        "from pyspark.ml.classification import DecisionTreeClassifier, MultilayerPerceptronClassifier\n",
        "from pyspark.ml.feature import StringIndexer, VectorIndexer\n",
        "from pyspark.ml.evaluation import MulticlassClassificationEvaluator\n",
        "from pyspark.ml.feature import VectorAssembler\n",
        "\n",
        "assembler = VectorAssembler(inputCols=[\n",
        "   'CreditScore', 'GeographyVec', 'GenderVec', 'Age', 'Tenure', 'Balance', 'NumOfProducts', 'HasCrCard', 'IsActiveMember', 'EstimatedSalary'\n",
        "], outputCol='features')\n",
        "\n",
        "# Consolidate predictor columns\n",
        "cust_assembled = assembler.transform(encoded_final_df)\n",
        "\n",
        "# Check the resulting column\n",
        "cust_assembled.select('features', 'Exited').show(20, truncate=False)\n",
        "\n",
        "# Split the data into training and test sets (30% held out for testing)\n",
        "(trainingData, testData) = cust_assembled.randomSplit([0.7, 0.3], 2)\n",
        "\n",
        "# Train a DecisionTree model.\n",
        "dt = DecisionTreeClassifier(labelCol=\"Exited\", featuresCol=\"features\", maxDepth=11, maxBins=32)\n",
        "\n",
        "# Chain indexers and tree in a Pipeline\n",
        "pipeline = Pipeline(stages=[dt])\n",
        "\n",
        "# Train model.  This also runs the indexers.\n",
        "dtModel = pipeline.fit(trainingData)\n",
        "\n",
        "# Make predictions.\n",
        "predictions = dtModel.transform(testData)\n",
        "\n",
        "# Select example rows to display.\n",
        "predictions.select(\"prediction\", \"Exited\").show(20)\n",
        "\n",
        "# Select (prediction, true label) and compute test error\n",
        "evaluator = MulticlassClassificationEvaluator(\n",
        "    labelCol=\"Exited\", predictionCol=\"prediction\", metricName=\"accuracy\")\n",
        "accuracy = evaluator.evaluate(predictions)\n",
        "print(\"Test Error = %g \" % (1.0 - accuracy))"
      ],
      "metadata": {
        "colab": {
          "base_uri": "https://localhost:8080/"
        },
        "id": "G97tYaEw5vFc",
        "outputId": "616fdded-7bce-4815-d131-9ec19cdb3ab6"
      },
      "execution_count": 7,
      "outputs": [
        {
          "output_type": "stream",
          "name": "stdout",
          "text": [
            "+--------------------------------------------------------------------+------+\n",
            "|features                                                            |Exited|\n",
            "+--------------------------------------------------------------------+------+\n",
            "|[698.0,0.0,0.0,1.0,0.0,1.0,39.0,9.0,161993.89,1.0,0.0,0.0,90212.38] |0     |\n",
            "|[612.0,0.0,0.0,1.0,1.0,0.0,35.0,1.0,0.0,1.0,1.0,1.0,83256.26]       |1     |\n",
            "|[745.0,0.0,1.0,0.0,1.0,0.0,48.0,10.0,96048.55,1.0,1.0,0.0,74510.65] |0     |\n",
            "|(13,[0,1,4,6,7,9,12],[532.0,1.0,1.0,38.0,9.0,2.0,30583.95])         |0     |\n",
            "|[631.0,0.0,0.0,1.0,1.0,0.0,29.0,3.0,0.0,2.0,1.0,1.0,197963.46]      |0     |\n",
            "|[845.0,1.0,0.0,0.0,0.0,1.0,28.0,9.0,0.0,2.0,1.0,1.0,56185.98]       |0     |\n",
            "|[653.0,1.0,0.0,0.0,1.0,0.0,44.0,8.0,0.0,2.0,1.0,1.0,154639.72]      |0     |\n",
            "|[497.0,0.0,1.0,0.0,1.0,0.0,41.0,5.0,80542.81,1.0,0.0,0.0,88729.22]  |1     |\n",
            "|[545.0,0.0,0.0,1.0,0.0,1.0,32.0,4.0,0.0,1.0,1.0,0.0,94739.2]        |0     |\n",
            "|[596.0,1.0,0.0,0.0,1.0,0.0,39.0,9.0,0.0,1.0,1.0,0.0,48963.59]       |0     |\n",
            "|[526.0,1.0,0.0,0.0,0.0,1.0,37.0,5.0,53573.18,1.0,1.0,0.0,62830.97]  |0     |\n",
            "|[618.0,1.0,0.0,0.0,0.0,1.0,37.0,5.0,96652.86,1.0,1.0,0.0,98686.4]   |1     |\n",
            "|[580.0,0.0,1.0,0.0,1.0,0.0,44.0,9.0,143391.07,1.0,0.0,0.0,146891.07]|1     |\n",
            "|[787.0,1.0,0.0,0.0,1.0,0.0,25.0,5.0,0.0,2.0,1.0,0.0,47307.9]        |0     |\n",
            "|[761.0,1.0,0.0,0.0,0.0,1.0,33.0,6.0,138053.79,2.0,1.0,0.0,148779.41]|0     |\n",
            "|[660.0,0.0,0.0,1.0,0.0,1.0,42.0,5.0,0.0,3.0,1.0,1.0,189016.24]      |1     |\n",
            "|[515.0,1.0,0.0,0.0,1.0,0.0,48.0,5.0,129387.94,1.0,0.0,1.0,147955.91]|1     |\n",
            "|[586.0,0.0,0.0,1.0,0.0,1.0,33.0,10.0,66948.67,2.0,1.0,1.0,140759.03]|0     |\n",
            "|[683.0,0.0,1.0,0.0,0.0,1.0,32.0,0.0,138171.1,2.0,1.0,1.0,188203.58] |0     |\n",
            "|[487.0,1.0,0.0,0.0,1.0,0.0,45.0,2.0,0.0,2.0,1.0,0.0,77475.73]       |0     |\n",
            "+--------------------------------------------------------------------+------+\n",
            "only showing top 20 rows\n",
            "\n",
            "+----------+------+\n",
            "|prediction|Exited|\n",
            "+----------+------+\n",
            "|       1.0|     1|\n",
            "|       0.0|     1|\n",
            "|       0.0|     1|\n",
            "|       0.0|     1|\n",
            "|       0.0|     0|\n",
            "|       0.0|     0|\n",
            "|       0.0|     0|\n",
            "|       0.0|     0|\n",
            "|       0.0|     0|\n",
            "|       0.0|     0|\n",
            "|       0.0|     0|\n",
            "|       0.0|     0|\n",
            "|       1.0|     1|\n",
            "|       0.0|     0|\n",
            "|       1.0|     0|\n",
            "|       0.0|     0|\n",
            "|       0.0|     0|\n",
            "|       0.0|     0|\n",
            "|       0.0|     0|\n",
            "|       0.0|     0|\n",
            "+----------+------+\n",
            "only showing top 20 rows\n",
            "\n",
            "Test Error = 0.178978 \n"
          ]
        }
      ]
    },
    {
      "cell_type": "code",
      "source": [
        "datestamp = datetime.now().strftime('%m-%d-%Y-%s')\n",
        "fileName = \"dtModel_\" + datestamp\n",
        "logRegDirfilename = fileName\n",
        "dtModel.save(logRegDirfilename)"
      ],
      "metadata": {
        "id": "cCUVAyqrZFme"
      },
      "execution_count": 8,
      "outputs": []
    },
    {
      "cell_type": "markdown",
      "source": [
        "# Public Evaluation Part"
      ],
      "metadata": {
        "id": "0zgVEu5RdwZE"
      }
    },
    {
      "cell_type": "markdown",
      "source": [
        "## Load private dataset, the same structure as public dataset"
      ],
      "metadata": {
        "id": "mhkqVAz5eL7h"
      }
    },
    {
      "cell_type": "code",
      "source": [
        "df_private_evl = spark.read.csv('public.csv',header=True,inferSchema=True)  # TA takes public dataset as example"
      ],
      "metadata": {
        "id": "_yRnYPUleP-_"
      },
      "execution_count": 9,
      "outputs": []
    },
    {
      "cell_type": "markdown",
      "source": [
        "## Do prediction with your PySpark model here (**Very Important**)\n",
        "You must do prediction (inference) here.\n",
        "Then TA will know how to run your ML model to test private data."
      ],
      "metadata": {
        "id": "rqFr_yrdePTr"
      }
    },
    {
      "cell_type": "code",
      "source": [
        "cust_df_private = df_private_evl.select('CreditScore', 'Geography', 'Gender', 'Age', 'Tenure', 'Balance', 'NumOfProducts', 'HasCrCard', 'IsActiveMember', 'EstimatedSalary', 'Exited')"
      ],
      "metadata": {
        "id": "Ke_8GjcSkATo"
      },
      "execution_count": 10,
      "outputs": []
    },
    {
      "cell_type": "code",
      "source": [
        "# Because the sample uses an algorithm that works only with numeric features, convert them so they can be consumed\n",
        "sI1 = StringIndexer(inputCol=\"Geography\", outputCol=\"GeographyIndex\")\n",
        "en1 = OneHotEncoder(dropLast=False, inputCol=\"GeographyIndex\", outputCol=\"GeographyVec\")\n",
        "sI2 = StringIndexer(inputCol=\"Gender\", outputCol=\"GenderIndex\")\n",
        "en2 = OneHotEncoder(dropLast=False, inputCol=\"GenderIndex\", outputCol=\"GenderVec\")\n",
        "\n",
        "# Create a new DataFrame that has had the encodings applied\n",
        "encoded_final_df_private = Pipeline(stages=[sI1, en1, sI2, en2]).fit(cust_df_private).transform(cust_df_private)"
      ],
      "metadata": {
        "id": "l1t_brxVkPMe"
      },
      "execution_count": 11,
      "outputs": []
    },
    {
      "cell_type": "code",
      "source": [
        "dtModel.load(logRegDirfilename)"
      ],
      "metadata": {
        "id": "uTzZouvKeUDD",
        "colab": {
          "base_uri": "https://localhost:8080/"
        },
        "outputId": "365211f9-c7c3-4255-981d-ea263b14795e"
      },
      "execution_count": 12,
      "outputs": [
        {
          "output_type": "execute_result",
          "data": {
            "text/plain": [
              "PipelineModel_1352b00af176"
            ]
          },
          "metadata": {},
          "execution_count": 12
        }
      ]
    },
    {
      "cell_type": "code",
      "source": [
        "assembler = VectorAssembler(inputCols=[\n",
        "   'CreditScore', 'GeographyVec', 'GenderVec', 'Age', 'Tenure', 'Balance', 'NumOfProducts', 'HasCrCard', 'IsActiveMember', 'EstimatedSalary'\n",
        "], outputCol='features')\n",
        "\n",
        "# Consolidate predictor columns\n",
        "cust_assembled = assembler.transform(encoded_final_df_private)\n",
        "\n",
        "# Check the resulting column\n",
        "cust_assembled.select('features', 'Exited').show(20, truncate=False)"
      ],
      "metadata": {
        "colab": {
          "base_uri": "https://localhost:8080/"
        },
        "id": "ZKwuWnUBd8FZ",
        "outputId": "99dc6ae3-d50c-430c-c1c5-4a2e4fdd7c64"
      },
      "execution_count": 13,
      "outputs": [
        {
          "output_type": "stream",
          "name": "stdout",
          "text": [
            "+--------------------------------------------------------------------+------+\n",
            "|features                                                            |Exited|\n",
            "+--------------------------------------------------------------------+------+\n",
            "|[698.0,0.0,0.0,1.0,0.0,1.0,39.0,9.0,161993.89,1.0,0.0,0.0,90212.38] |0     |\n",
            "|[612.0,0.0,0.0,1.0,1.0,0.0,35.0,1.0,0.0,1.0,1.0,1.0,83256.26]       |1     |\n",
            "|[745.0,0.0,1.0,0.0,1.0,0.0,48.0,10.0,96048.55,1.0,1.0,0.0,74510.65] |0     |\n",
            "|(13,[0,1,4,6,7,9,12],[532.0,1.0,1.0,38.0,9.0,2.0,30583.95])         |0     |\n",
            "|[631.0,0.0,0.0,1.0,1.0,0.0,29.0,3.0,0.0,2.0,1.0,1.0,197963.46]      |0     |\n",
            "|[845.0,1.0,0.0,0.0,0.0,1.0,28.0,9.0,0.0,2.0,1.0,1.0,56185.98]       |0     |\n",
            "|[653.0,1.0,0.0,0.0,1.0,0.0,44.0,8.0,0.0,2.0,1.0,1.0,154639.72]      |0     |\n",
            "|[497.0,0.0,1.0,0.0,1.0,0.0,41.0,5.0,80542.81,1.0,0.0,0.0,88729.22]  |1     |\n",
            "|[545.0,0.0,0.0,1.0,0.0,1.0,32.0,4.0,0.0,1.0,1.0,0.0,94739.2]        |0     |\n",
            "|[596.0,1.0,0.0,0.0,1.0,0.0,39.0,9.0,0.0,1.0,1.0,0.0,48963.59]       |0     |\n",
            "|[526.0,1.0,0.0,0.0,0.0,1.0,37.0,5.0,53573.18,1.0,1.0,0.0,62830.97]  |0     |\n",
            "|[618.0,1.0,0.0,0.0,0.0,1.0,37.0,5.0,96652.86,1.0,1.0,0.0,98686.4]   |1     |\n",
            "|[580.0,0.0,1.0,0.0,1.0,0.0,44.0,9.0,143391.07,1.0,0.0,0.0,146891.07]|1     |\n",
            "|[787.0,1.0,0.0,0.0,1.0,0.0,25.0,5.0,0.0,2.0,1.0,0.0,47307.9]        |0     |\n",
            "|[761.0,1.0,0.0,0.0,0.0,1.0,33.0,6.0,138053.79,2.0,1.0,0.0,148779.41]|0     |\n",
            "|[660.0,0.0,0.0,1.0,0.0,1.0,42.0,5.0,0.0,3.0,1.0,1.0,189016.24]      |1     |\n",
            "|[515.0,1.0,0.0,0.0,1.0,0.0,48.0,5.0,129387.94,1.0,0.0,1.0,147955.91]|1     |\n",
            "|[586.0,0.0,0.0,1.0,0.0,1.0,33.0,10.0,66948.67,2.0,1.0,1.0,140759.03]|0     |\n",
            "|[683.0,0.0,1.0,0.0,0.0,1.0,32.0,0.0,138171.1,2.0,1.0,1.0,188203.58] |0     |\n",
            "|[487.0,1.0,0.0,0.0,1.0,0.0,45.0,2.0,0.0,2.0,1.0,0.0,77475.73]       |0     |\n",
            "+--------------------------------------------------------------------+------+\n",
            "only showing top 20 rows\n",
            "\n"
          ]
        }
      ]
    },
    {
      "cell_type": "code",
      "source": [
        "# Make predictions.\n",
        "predictions = dtModel.transform(cust_assembled)\n",
        "\n",
        "# Select example rows to display.\n",
        "predictions.select(\"prediction\", \"Exited\").show(20)\n",
        "\n",
        "# Select (prediction, true label) and compute test error\n",
        "evaluator = MulticlassClassificationEvaluator(\n",
        "    labelCol=\"Exited\", predictionCol=\"prediction\", metricName=\"accuracy\")\n",
        "accuracy = evaluator.evaluate(predictions)\n",
        "print(\"Test Error = %g \" % (1.0 - accuracy))"
      ],
      "metadata": {
        "colab": {
          "base_uri": "https://localhost:8080/"
        },
        "id": "ROeHYH6vcKC3",
        "outputId": "6c6fa2c3-5e28-49aa-a1e4-a4ec7f1ffa3f"
      },
      "execution_count": 14,
      "outputs": [
        {
          "output_type": "stream",
          "name": "stdout",
          "text": [
            "+----------+------+\n",
            "|prediction|Exited|\n",
            "+----------+------+\n",
            "|       0.0|     0|\n",
            "|       0.0|     1|\n",
            "|       0.0|     0|\n",
            "|       0.0|     0|\n",
            "|       0.0|     0|\n",
            "|       0.0|     0|\n",
            "|       0.0|     0|\n",
            "|       1.0|     1|\n",
            "|       0.0|     0|\n",
            "|       0.0|     0|\n",
            "|       0.0|     0|\n",
            "|       0.0|     1|\n",
            "|       1.0|     1|\n",
            "|       0.0|     0|\n",
            "|       0.0|     0|\n",
            "|       1.0|     1|\n",
            "|       1.0|     1|\n",
            "|       0.0|     0|\n",
            "|       0.0|     0|\n",
            "|       0.0|     0|\n",
            "+----------+------+\n",
            "only showing top 20 rows\n",
            "\n",
            "Test Error = 0.098875 \n"
          ]
        }
      ]
    },
    {
      "cell_type": "code",
      "source": [
        "predictions.select(\"Exited\",\"prediction\").show()"
      ],
      "metadata": {
        "colab": {
          "base_uri": "https://localhost:8080/"
        },
        "id": "pB_WgXWVldfA",
        "outputId": "8eb5d85d-2e2c-44d4-c67a-71d9f11120e4"
      },
      "execution_count": 15,
      "outputs": [
        {
          "output_type": "stream",
          "name": "stdout",
          "text": [
            "+------+----------+\n",
            "|Exited|prediction|\n",
            "+------+----------+\n",
            "|     0|       0.0|\n",
            "|     1|       0.0|\n",
            "|     0|       0.0|\n",
            "|     0|       0.0|\n",
            "|     0|       0.0|\n",
            "|     0|       0.0|\n",
            "|     0|       0.0|\n",
            "|     1|       1.0|\n",
            "|     0|       0.0|\n",
            "|     0|       0.0|\n",
            "|     0|       0.0|\n",
            "|     1|       0.0|\n",
            "|     1|       1.0|\n",
            "|     0|       0.0|\n",
            "|     0|       0.0|\n",
            "|     1|       1.0|\n",
            "|     1|       1.0|\n",
            "|     0|       0.0|\n",
            "|     0|       0.0|\n",
            "|     0|       0.0|\n",
            "+------+----------+\n",
            "only showing top 20 rows\n",
            "\n"
          ]
        }
      ]
    },
    {
      "cell_type": "markdown",
      "source": [
        "## Print Your result as the following type"
      ],
      "metadata": {
        "id": "nImCAhojeUdU"
      }
    },
    {
      "cell_type": "code",
      "execution_count": 16,
      "metadata": {
        "id": "rewgVBI3dkNA",
        "outputId": "7b40a30e-0d16-4a55-a6cd-3b129aa69157",
        "colab": {
          "base_uri": "https://localhost:8080/"
        }
      },
      "outputs": [
        {
          "output_type": "stream",
          "name": "stdout",
          "text": [
            "+----------+------+\n",
            "|CustomerId|Exited|\n",
            "+----------+------+\n",
            "|  15565701|     0|\n",
            "|  15565706|     1|\n",
            "|  15565796|     0|\n",
            "|  15565806|     0|\n",
            "|  15565878|     0|\n",
            "+----------+------+\n",
            "only showing top 5 rows\n",
            "\n"
          ]
        }
      ],
      "source": [
        "df_private_evl.select('CustomerId','Exited').show(5)"
      ]
    },
    {
      "cell_type": "markdown",
      "source": [
        "## Calculate f-1 score"
      ],
      "metadata": {
        "id": "Dvd03pXBejH8"
      }
    },
    {
      "cell_type": "code",
      "source": [
        "from sklearn import metrics\n",
        "import numpy as np\n",
        "data_array =  np.array(df_private_evl.select('Exited').collect())\n",
        "data_array2 = np.array(predictions.select('prediction').collect())\n",
        "\n",
        "metrics.f1_score(data_array,data_array2)"
      ],
      "metadata": {
        "id": "FjyYfqgAekX-",
        "colab": {
          "base_uri": "https://localhost:8080/"
        },
        "outputId": "09ad72ff-695a-49b7-feb6-aed5e6aa3edc"
      },
      "execution_count": 17,
      "outputs": [
        {
          "output_type": "execute_result",
          "data": {
            "text/plain": [
              "0.7367720465890183"
            ]
          },
          "metadata": {},
          "execution_count": 17
        }
      ]
    },
    {
      "cell_type": "markdown",
      "metadata": {
        "id": "fgZHKhYxdkM-"
      },
      "source": [
        "# ------------------------------------------------------------------------------------------------------\n",
        "## Private Evaluation Part (TA will use this block to test your model)\n",
        "Please "
      ]
    },
    {
      "cell_type": "code",
      "execution_count": 18,
      "metadata": {
        "id": "Gu92e5R9dkM_",
        "colab": {
          "base_uri": "https://localhost:8080/",
          "height": 324
        },
        "outputId": "07fea0a8-dad9-4e61-bccf-1659fdfb18b4"
      },
      "outputs": [
        {
          "output_type": "error",
          "ename": "AnalysisException",
          "evalue": "ignored",
          "traceback": [
            "\u001b[0;31m---------------------------------------------------------------------------\u001b[0m",
            "\u001b[0;31mAnalysisException\u001b[0m                         Traceback (most recent call last)",
            "\u001b[0;32m<ipython-input-18-9281aac63878>\u001b[0m in \u001b[0;36m<module>\u001b[0;34m()\u001b[0m\n\u001b[0;32m----> 1\u001b[0;31m \u001b[0mdf_private\u001b[0m \u001b[0;34m=\u001b[0m \u001b[0mspark\u001b[0m\u001b[0;34m.\u001b[0m\u001b[0mread\u001b[0m\u001b[0;34m.\u001b[0m\u001b[0mcsv\u001b[0m\u001b[0;34m(\u001b[0m\u001b[0;34m'private.csv'\u001b[0m\u001b[0;34m,\u001b[0m\u001b[0mheader\u001b[0m\u001b[0;34m=\u001b[0m\u001b[0;32mTrue\u001b[0m\u001b[0;34m,\u001b[0m\u001b[0minferSchema\u001b[0m\u001b[0;34m=\u001b[0m\u001b[0;32mTrue\u001b[0m\u001b[0;34m)\u001b[0m  \u001b[0;31m# TA takes private dataset as example\u001b[0m\u001b[0;34m\u001b[0m\u001b[0;34m\u001b[0m\u001b[0m\n\u001b[0m",
            "\u001b[0;32m/usr/local/lib/python3.7/dist-packages/pyspark/sql/readwriter.py\u001b[0m in \u001b[0;36mcsv\u001b[0;34m(self, path, schema, sep, encoding, quote, escape, comment, header, inferSchema, ignoreLeadingWhiteSpace, ignoreTrailingWhiteSpace, nullValue, nanValue, positiveInf, negativeInf, dateFormat, timestampFormat, maxColumns, maxCharsPerColumn, maxMalformedLogPerPartition, mode, columnNameOfCorruptRecord, multiLine, charToEscapeQuoteEscaping, samplingRatio, enforceSchema, emptyValue, locale, lineSep, pathGlobFilter, recursiveFileLookup, modifiedBefore, modifiedAfter, unescapedQuoteHandling)\u001b[0m\n\u001b[1;32m    408\u001b[0m             \u001b[0mpath\u001b[0m \u001b[0;34m=\u001b[0m \u001b[0;34m[\u001b[0m\u001b[0mpath\u001b[0m\u001b[0;34m]\u001b[0m\u001b[0;34m\u001b[0m\u001b[0;34m\u001b[0m\u001b[0m\n\u001b[1;32m    409\u001b[0m         \u001b[0;32mif\u001b[0m \u001b[0mtype\u001b[0m\u001b[0;34m(\u001b[0m\u001b[0mpath\u001b[0m\u001b[0;34m)\u001b[0m \u001b[0;34m==\u001b[0m \u001b[0mlist\u001b[0m\u001b[0;34m:\u001b[0m\u001b[0;34m\u001b[0m\u001b[0;34m\u001b[0m\u001b[0m\n\u001b[0;32m--> 410\u001b[0;31m             \u001b[0;32mreturn\u001b[0m \u001b[0mself\u001b[0m\u001b[0;34m.\u001b[0m\u001b[0m_df\u001b[0m\u001b[0;34m(\u001b[0m\u001b[0mself\u001b[0m\u001b[0;34m.\u001b[0m\u001b[0m_jreader\u001b[0m\u001b[0;34m.\u001b[0m\u001b[0mcsv\u001b[0m\u001b[0;34m(\u001b[0m\u001b[0mself\u001b[0m\u001b[0;34m.\u001b[0m\u001b[0m_spark\u001b[0m\u001b[0;34m.\u001b[0m\u001b[0m_sc\u001b[0m\u001b[0;34m.\u001b[0m\u001b[0m_jvm\u001b[0m\u001b[0;34m.\u001b[0m\u001b[0mPythonUtils\u001b[0m\u001b[0;34m.\u001b[0m\u001b[0mtoSeq\u001b[0m\u001b[0;34m(\u001b[0m\u001b[0mpath\u001b[0m\u001b[0;34m)\u001b[0m\u001b[0;34m)\u001b[0m\u001b[0;34m)\u001b[0m\u001b[0;34m\u001b[0m\u001b[0;34m\u001b[0m\u001b[0m\n\u001b[0m\u001b[1;32m    411\u001b[0m         \u001b[0;32melif\u001b[0m \u001b[0misinstance\u001b[0m\u001b[0;34m(\u001b[0m\u001b[0mpath\u001b[0m\u001b[0;34m,\u001b[0m \u001b[0mRDD\u001b[0m\u001b[0;34m)\u001b[0m\u001b[0;34m:\u001b[0m\u001b[0;34m\u001b[0m\u001b[0;34m\u001b[0m\u001b[0m\n\u001b[1;32m    412\u001b[0m             \u001b[0;32mdef\u001b[0m \u001b[0mfunc\u001b[0m\u001b[0;34m(\u001b[0m\u001b[0miterator\u001b[0m\u001b[0;34m)\u001b[0m\u001b[0;34m:\u001b[0m\u001b[0;34m\u001b[0m\u001b[0;34m\u001b[0m\u001b[0m\n",
            "\u001b[0;32m/usr/local/lib/python3.7/dist-packages/py4j/java_gateway.py\u001b[0m in \u001b[0;36m__call__\u001b[0;34m(self, *args)\u001b[0m\n\u001b[1;32m   1320\u001b[0m         \u001b[0manswer\u001b[0m \u001b[0;34m=\u001b[0m \u001b[0mself\u001b[0m\u001b[0;34m.\u001b[0m\u001b[0mgateway_client\u001b[0m\u001b[0;34m.\u001b[0m\u001b[0msend_command\u001b[0m\u001b[0;34m(\u001b[0m\u001b[0mcommand\u001b[0m\u001b[0;34m)\u001b[0m\u001b[0;34m\u001b[0m\u001b[0;34m\u001b[0m\u001b[0m\n\u001b[1;32m   1321\u001b[0m         return_value = get_return_value(\n\u001b[0;32m-> 1322\u001b[0;31m             answer, self.gateway_client, self.target_id, self.name)\n\u001b[0m\u001b[1;32m   1323\u001b[0m \u001b[0;34m\u001b[0m\u001b[0m\n\u001b[1;32m   1324\u001b[0m         \u001b[0;32mfor\u001b[0m \u001b[0mtemp_arg\u001b[0m \u001b[0;32min\u001b[0m \u001b[0mtemp_args\u001b[0m\u001b[0;34m:\u001b[0m\u001b[0;34m\u001b[0m\u001b[0;34m\u001b[0m\u001b[0m\n",
            "\u001b[0;32m/usr/local/lib/python3.7/dist-packages/pyspark/sql/utils.py\u001b[0m in \u001b[0;36mdeco\u001b[0;34m(*a, **kw)\u001b[0m\n\u001b[1;32m    115\u001b[0m                 \u001b[0;31m# Hide where the exception came from that shows a non-Pythonic\u001b[0m\u001b[0;34m\u001b[0m\u001b[0;34m\u001b[0m\u001b[0;34m\u001b[0m\u001b[0m\n\u001b[1;32m    116\u001b[0m                 \u001b[0;31m# JVM exception message.\u001b[0m\u001b[0;34m\u001b[0m\u001b[0;34m\u001b[0m\u001b[0;34m\u001b[0m\u001b[0m\n\u001b[0;32m--> 117\u001b[0;31m                 \u001b[0;32mraise\u001b[0m \u001b[0mconverted\u001b[0m \u001b[0;32mfrom\u001b[0m \u001b[0;32mNone\u001b[0m\u001b[0;34m\u001b[0m\u001b[0;34m\u001b[0m\u001b[0m\n\u001b[0m\u001b[1;32m    118\u001b[0m             \u001b[0;32melse\u001b[0m\u001b[0;34m:\u001b[0m\u001b[0;34m\u001b[0m\u001b[0;34m\u001b[0m\u001b[0m\n\u001b[1;32m    119\u001b[0m                 \u001b[0;32mraise\u001b[0m\u001b[0;34m\u001b[0m\u001b[0;34m\u001b[0m\u001b[0m\n",
            "\u001b[0;31mAnalysisException\u001b[0m: Path does not exist: file:/content/private.csv"
          ]
        }
      ],
      "source": [
        "df_private = spark.read.csv('private.csv',header=True,inferSchema=True)  # TA takes private dataset as example"
      ]
    },
    {
      "cell_type": "markdown",
      "metadata": {
        "id": "g0wWDMNEdkM_"
      },
      "source": [
        "## Do prediction with your PySpark model here"
      ]
    },
    {
      "cell_type": "code",
      "execution_count": null,
      "metadata": {
        "id": "JGQrC4BLdkM_"
      },
      "outputs": [],
      "source": [
        "cust_df_private = df_private.select('CreditScore', 'Geography', 'Gender', 'Age', 'Tenure', 'Balance', 'NumOfProducts', 'HasCrCard', 'IsActiveMember', 'EstimatedSalary', 'Exited')"
      ]
    },
    {
      "cell_type": "code",
      "source": [
        "# Because the sample uses an algorithm that works only with numeric features, convert them so they can be consumed\n",
        "sI1 = StringIndexer(inputCol=\"Geography\", outputCol=\"GeographyIndex\")\n",
        "en1 = OneHotEncoder(dropLast=False, inputCol=\"GeographyIndex\", outputCol=\"GeographyVec\")\n",
        "sI2 = StringIndexer(inputCol=\"Gender\", outputCol=\"GenderIndex\")\n",
        "en2 = OneHotEncoder(dropLast=False, inputCol=\"GenderIndex\", outputCol=\"GenderVec\")\n",
        "\n",
        "# Create a new DataFrame that has had the encodings applied\n",
        "encoded_final_df_private = Pipeline(stages=[sI1, en1, sI2, en2]).fit(cust_df_private).transform(cust_df_private)"
      ],
      "metadata": {
        "id": "r3EqIm_aAXAJ"
      },
      "execution_count": null,
      "outputs": []
    },
    {
      "cell_type": "code",
      "source": [
        "dtModel.load(logRegDirfilename)"
      ],
      "metadata": {
        "id": "BVKWzAbrBV0v"
      },
      "execution_count": null,
      "outputs": []
    },
    {
      "cell_type": "code",
      "source": [
        "assembler = VectorAssembler(inputCols=[\n",
        "   'CreditScore', 'GeographyVec', 'GenderVec', 'Age', 'Tenure', 'Balance', 'NumOfProducts', 'HasCrCard', 'IsActiveMember', 'EstimatedSalary'\n",
        "], outputCol='features')\n",
        "\n",
        "# Consolidate predictor columns\n",
        "cust_assembled = assembler.transform(encoded_final_df_private)\n",
        "\n",
        "# Check the resulting column\n",
        "cust_assembled.select('features', 'Exited').show(20, truncate=False)"
      ],
      "metadata": {
        "id": "VbUXH2-zBdUs"
      },
      "execution_count": null,
      "outputs": []
    },
    {
      "cell_type": "code",
      "source": [
        "# Make predictions.\n",
        "predictions = dtModel.transform(cust_assembled)\n",
        "\n",
        "# Select example rows to display.\n",
        "predictions.select(\"prediction\", \"Exited\").show(20)\n",
        "\n",
        "# Select (prediction, true label) and compute test error\n",
        "evaluator = MulticlassClassificationEvaluator(\n",
        "    labelCol=\"Exited\", predictionCol=\"prediction\", metricName=\"accuracy\")\n",
        "accuracy = evaluator.evaluate(predictions)\n",
        "print(\"Test Error = %g \" % (1.0 - accuracy))"
      ],
      "metadata": {
        "id": "cM22ZhYotntC"
      },
      "execution_count": null,
      "outputs": []
    },
    {
      "cell_type": "markdown",
      "metadata": {
        "id": "dNDZUsp5dkNA"
      },
      "source": [
        "## TA will use the following function to get your prediction result (f-1 score)"
      ]
    },
    {
      "cell_type": "code",
      "execution_count": null,
      "metadata": {
        "id": "NTjjcJEMdkNA"
      },
      "outputs": [],
      "source": [
        "from sklearn import metrics\n",
        "import numpy as np\n",
        "data_array =  np.array(df_private.select('Exited').collect())\n",
        "data_array2 = np.array(predictions.select('prediction').collect())\n",
        "\n",
        "metrics.f1_score(data_array,data_array2)  "
      ]
    }
  ],
  "metadata": {
    "kernelspec": {
      "display_name": "Python 3",
      "language": "python",
      "name": "python3"
    },
    "language_info": {
      "codemirror_mode": {
        "name": "ipython",
        "version": 3
      },
      "file_extension": ".py",
      "mimetype": "text/x-python",
      "name": "python",
      "nbconvert_exporter": "python",
      "pygments_lexer": "ipython3",
      "version": "3.6.8"
    },
    "colab": {
      "name": "CCBDA_HW5_310581013.ipynb",
      "provenance": [],
      "collapsed_sections": []
    }
  },
  "nbformat": 4,
  "nbformat_minor": 0
}